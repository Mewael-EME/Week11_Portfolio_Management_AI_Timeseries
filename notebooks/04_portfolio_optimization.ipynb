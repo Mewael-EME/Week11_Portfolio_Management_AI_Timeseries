{
 "cells": [
  {
   "cell_type": "code",
   "execution_count": 1,
   "id": "38afd7d6-66d5-48de-a9b5-aadb2dd90401",
   "metadata": {},
   "outputs": [],
   "source": [
    "# notebooks/04_portfolio_optimization.ipynb\n",
    "# Task 4: Portfolio Optimization using forecasted TSLA return + historical BND & SPY\n",
    "\n",
    "import numpy as np\n",
    "import pandas as pd\n",
    "import matplotlib.pyplot as plt"
   ]
  },
  {
   "cell_type": "code",
   "execution_count": null,
   "id": "53c312c8-0384-46f7-af3e-ffa038bcde9a",
   "metadata": {},
   "outputs": [],
   "source": [
    "# PyPortfolioOpt\n",
    "from pypfopt import EfficientFrontier, risk_models, expected_returns, plotting"
   ]
  },
  {
   "cell_type": "code",
   "execution_count": 3,
   "id": "eb854690-1715-4405-bd45-c02d381985d4",
   "metadata": {},
   "outputs": [],
   "source": [
    "import os, sys\n",
    "\n",
    "# Go to project root (adjust path if needed)\n",
    "os.chdir(\"..\")  \n",
    "\n",
    "# Add src folder to Python path\n",
    "sys.path.append(os.path.abspath(\"src\"))"
   ]
  },
  {
   "cell_type": "code",
   "execution_count": 4,
   "id": "e8a9b620-8fd9-4f5d-ae6f-15e388540c78",
   "metadata": {},
   "outputs": [],
   "source": [
    "# Parameters\n",
    "DATA_PATH = \"data/adj_close_prices.csv\"\n",
    "RESULTS_DIR = \"results/task3\"\n",
    "TSLA_FORECAST_FILE = os.path.join(RESULTS_DIR, \"arima_future_forecast.csv\")   # change to chosen model file\n",
    "FORECAST_HORIZON_DAYS = 252  # use 252 trading days ~ 1 year; adapt if forecast shorter\n",
    "RISK_FREE_RATE = 0.0  # adjust if you want a realistic T-bill rate\n",
    "\n",
    "# Create results dir for task4\n",
    "SAVE_DIR = \"results/task4\"\n",
    "os.makedirs(SAVE_DIR, exist_ok=True)"
   ]
  },
  {
   "cell_type": "code",
   "execution_count": 5,
   "id": "e5b1a072-bfb0-4bf6-adf2-5945f2fca70f",
   "metadata": {},
   "outputs": [],
   "source": [
    "# 1. Load historical prices and compute daily returns\n",
    "df = pd.read_csv(DATA_PATH, parse_dates=[\"Date\"], index_col=\"Date\")\n",
    "prices = df[[\"TSLA\", \"BND\", \"SPY\"]].asfreq(\"B\").ffill()  # business day freq and forward-fill\n",
    "\n",
    "# compute daily returns\n",
    "daily_returns = prices.pct_change().dropna()"
   ]
  },
  {
   "cell_type": "code",
   "execution_count": 6,
   "id": "d058aa5b-00b0-44a8-bd8b-24460727e57e",
   "metadata": {},
   "outputs": [
    {
     "name": "stdout",
     "output_type": "stream",
     "text": [
      "Historical annualized returns (annual):\n",
      "TSLA    0.317548\n",
      "BND     0.017580\n",
      "SPY     0.131402\n",
      "dtype: float64\n"
     ]
    }
   ],
   "source": [
    "# 2. Compute historical annualized expected returns for BND and SPY\n",
    "mu_hist = expected_returns.mean_historical_return(prices)  # annualized by PyPortfolioOpt\n",
    "# mu_hist is a Series indexed by tickers\n",
    "print(\"Historical annualized returns (annual):\")\n",
    "print(mu_hist)"
   ]
  },
  {
   "cell_type": "code",
   "execution_count": 7,
   "id": "aec01580-5ca5-457f-9e46-540084ed8eb6",
   "metadata": {},
   "outputs": [
    {
     "name": "stdout",
     "output_type": "stream",
     "text": [
      "TSLA forecast-based annual expected return (from last forecast point): -22.6392%\n"
     ]
    }
   ],
   "source": [
    "# 3. Get TSLA expected return from forecast\n",
    "# Preferred: read forecast CSV produced in Task3 (forecasted prices)\n",
    "# File expected with columns: ['forecast','ci_lower','ci_upper'] or similar\n",
    "if os.path.exists(TSLA_FORECAST_FILE):\n",
    "    tsla_forecast_df = pd.read_csv(TSLA_FORECAST_FILE, index_col=0, parse_dates=True)\n",
    "    # some forecast files have 'forecast' column; if not, try first column\n",
    "    if \"forecast\" in tsla_forecast_df.columns:\n",
    "        forecast_series = tsla_forecast_df[\"forecast\"]\n",
    "    else:\n",
    "        forecast_series = tsla_forecast_df.iloc[:, 0]\n",
    "    # Derive expected annual return from forecast horizon:\n",
    "    # Use last forecast point vs last historical price -> annualize\n",
    "    last_hist_price = prices[\"TSLA\"].dropna().iloc[-1]\n",
    "    # If forecast index contains dates, we can compute horizon in days:\n",
    "    try:\n",
    "        days_horizon = (forecast_series.index[-1] - forecast_series.index[0]).days + 1\n",
    "    except Exception:\n",
    "        days_horizon = len(forecast_series)\n",
    "    # Use CAGR formula from last_hist_price to mean(forecast) or last forecast value\n",
    "    # Option A: use last forecast value\n",
    "    last_forecast_price = forecast_series.iloc[-1]\n",
    "    years = days_horizon / 365.25 if days_horizon > 0 else 1.0\n",
    "    tsla_expected_annual_return = (last_forecast_price / last_hist_price) ** (1.0 / years) - 1.0\n",
    "    print(f\"TSLA forecast-based annual expected return (from last forecast point): {tsla_expected_annual_return:.4%}\")\n",
    "else:\n",
    "    # Fallback: use historical mean\n",
    "    print(f\"Forecast file not found at {TSLA_FORECAST_FILE}; using historical returns for TSLA instead.\")\n",
    "    tsla_expected_annual_return = mu_hist[\"TSLA\"]"
   ]
  },
  {
   "cell_type": "code",
   "execution_count": 12,
   "id": "bcdbdabd-54e1-4a16-8c03-1f0f10c4249a",
   "metadata": {},
   "outputs": [
    {
     "name": "stdout",
     "output_type": "stream",
     "text": [
      "\n",
      "Final expected returns used for optimization:\n",
      "TSLA   -0.226392\n",
      "BND     0.017580\n",
      "SPY     0.131402\n",
      "dtype: float64\n"
     ]
    }
   ],
   "source": [
    "# 4. Build expected returns vector for optimization\n",
    "mu = mu_hist.copy()        # start from historical for all\n",
    "mu[\"TSLA\"] = tsla_expected_annual_return  # replace TSLA with forecast-based view\n",
    "print(\"\\nFinal expected returns used for optimization:\")\n",
    "print(mu)"
   ]
  },
  {
   "cell_type": "code",
   "execution_count": 8,
   "id": "ef1b20d2-a6e0-43a4-a027-6247eb0b46a7",
   "metadata": {},
   "outputs": [
    {
     "name": "stdout",
     "output_type": "stream",
     "text": [
      "\n",
      "Annualized covariance matrix:\n",
      "          TSLA       BND       SPY\n",
      "TSLA  0.337568  0.001794  0.051026\n",
      "BND   0.001794  0.002906  0.001109\n",
      "SPY   0.051026  0.001109  0.032060\n"
     ]
    }
   ],
   "source": [
    "# 5. Covariance matrix (annualized) from historical daily returns\n",
    "S = risk_models.sample_cov(prices)  # PyPortfolioOpt returns annualized covariance by default (uses 252)\n",
    "print(\"\\nAnnualized covariance matrix:\")\n",
    "print(S)"
   ]
  },
  {
   "cell_type": "code",
   "execution_count": 13,
   "id": "5272a63c-0c2f-44f6-b020-dbb45a40419c",
   "metadata": {},
   "outputs": [
    {
     "name": "stdout",
     "output_type": "stream",
     "text": [
      "\n",
      "Max Sharpe Portfolio Weights:\n",
      "OrderedDict([('TSLA', 0.0), ('BND', 0.53561), ('SPY', 0.46439)])\n",
      "Expected annual return: 7.04%, Volatility: 9.11%, Sharpe: 0.77\n",
      "\n",
      "Min Volatility Portfolio Weights:\n",
      "OrderedDict([('TSLA', 0.0), ('BND', 0.94512), ('SPY', 0.05488)])\n",
      "Expected annual return: 2.38%, Volatility: 5.30%, Sharpe: 0.45\n"
     ]
    }
   ],
   "source": [
    "# 6. Efficient Frontier, Max Sharpe and Min Volatility\n",
    "ef = EfficientFrontier(mu, S, weight_bounds=(0,1))  # no shorting: bounds [0,1]\n",
    "raw_weights_sharpe = ef.max_sharpe(risk_free_rate=RISK_FREE_RATE)\n",
    "w_sharpe = ef.clean_weights()\n",
    "ret_sharpe, vol_sharpe, sharpe_sharpe = ef.portfolio_performance(verbose=False, risk_free_rate=RISK_FREE_RATE)\n",
    "\n",
    "# Recompute for min volatility (a new EfficientFrontier instance recommended)\n",
    "ef_min = EfficientFrontier(mu, S, weight_bounds=(0,1))\n",
    "raw_weights_min = ef_min.min_volatility()\n",
    "w_min = ef_min.clean_weights()\n",
    "ret_min, vol_min, sharpe_min = ef_min.portfolio_performance(verbose=False, risk_free_rate=RISK_FREE_RATE)\n",
    "\n",
    "print(\"\\nMax Sharpe Portfolio Weights:\")\n",
    "print(w_sharpe)\n",
    "print(f\"Expected annual return: {ret_sharpe:.2%}, Volatility: {vol_sharpe:.2%}, Sharpe: {sharpe_sharpe:.2f}\")\n",
    "\n",
    "print(\"\\nMin Volatility Portfolio Weights:\")\n",
    "print(w_min)\n",
    "print(f\"Expected annual return: {ret_min:.2%}, Volatility: {vol_min:.2%}, Sharpe: {sharpe_min:.2f}\")"
   ]
  },
  {
   "cell_type": "code",
   "execution_count": 14,
   "id": "02fbd4bb-76a9-46b1-952d-99a02971184b",
   "metadata": {},
   "outputs": [
    {
     "name": "stderr",
     "output_type": "stream",
     "text": [
      "C:\\Users\\Admin\\AppData\\Local\\Temp\\ipykernel_13340\\293363833.py:31: FutureWarning: Series.__getitem__ treating keys as positions is deprecated. In a future version, integer keys will always be treated as labels (consistent with DataFrame behavior). To access a value by position, use `ser.iloc[pos]`\n",
      "  plt.annotate(txt, (asset_annual_vols[i], asset_annual_returns[i]), xytext=(6,0), textcoords='offset points')\n"
     ]
    },
    {
     "data": {
      "image/png": "[encoded data removed]",
      "text/plain": [
       "<Figure size 1000x600 with 1 Axes>"
      ]
     },
     "metadata": {},
     "output_type": "display_data"
    }
   ],
   "source": [
    "# 7. Generate Efficient Frontier points (for plotting)\n",
    "# We'll sample target returns and minimize volatility for each target to build frontier\n",
    "n_points = 50\n",
    "target_returns = np.linspace(mu.min(), mu.max(), n_points)\n",
    "\n",
    "ef_plot_returns = []\n",
    "ef_plot_vols = []\n",
    "from pypfopt import EfficientFrontier\n",
    "for tr in target_returns:\n",
    "    ef_tmp = EfficientFrontier(mu, S, weight_bounds=(0,1))\n",
    "    try:\n",
    "        w = ef_tmp.efficient_return(target_return=tr)\n",
    "        perf = ef_tmp.portfolio_performance(verbose=False, risk_free_rate=RISK_FREE_RATE)\n",
    "        ef_plot_returns.append(perf[0])  # annual return\n",
    "        ef_plot_vols.append(perf[1])     # annual volatility\n",
    "    except Exception:\n",
    "        # skip unattainable targets\n",
    "        pass\n",
    "\n",
    "# 8. Plot Efficient Frontier and mark portfolios\n",
    "plt.figure(figsize=(10,6))\n",
    "plt.plot(ef_plot_vols, ef_plot_returns, 'b--', label=\"Efficient Frontier\")\n",
    "plt.scatter(vol_sharpe, ret_sharpe, c='red', marker='*', s=200, label=\"Max Sharpe\")\n",
    "plt.scatter(vol_min, ret_min, c='green', marker='o', s=100, label=\"Min Volatility\")\n",
    "\n",
    "# Plot individual assets\n",
    "asset_annual_returns = mu\n",
    "asset_annual_vols = np.sqrt(np.diag(S))\n",
    "plt.scatter(asset_annual_vols, asset_annual_returns, c='black', marker='x', label=\"Assets\")\n",
    "for i, txt in enumerate(mu.index):\n",
    "    plt.annotate(txt, (asset_annual_vols[i], asset_annual_returns[i]), xytext=(6,0), textcoords='offset points')\n",
    "\n",
    "plt.xlabel(\"Annual Volatility (Std Dev)\")\n",
    "plt.ylabel(\"Annual Expected Return\")\n",
    "plt.title(\"Efficient Frontier & Key Portfolios\")\n",
    "plt.legend()\n",
    "plt.grid(True)\n",
    "plt.tight_layout()\n",
    "plt.savefig(os.path.join(SAVE_DIR, \"efficient_frontier.png\"))\n",
    "plt.show()"
   ]
  },
  {
   "cell_type": "code",
   "execution_count": 15,
   "id": "242851aa-5911-475a-836a-7e53dd7cf432",
   "metadata": {},
   "outputs": [
    {
     "name": "stdout",
     "output_type": "stream",
     "text": [
      "\n",
      "Saved portfolio summary and weights to results/task4\n"
     ]
    }
   ],
   "source": [
    "# 9. Save recommended portfolios and summary\n",
    "summary = {\n",
    "    \"max_sharpe_weights\": w_sharpe,\n",
    "    \"max_sharpe_return\": ret_sharpe,\n",
    "    \"max_sharpe_vol\": vol_sharpe,\n",
    "    \"max_sharpe_sharpe\": sharpe_sharpe,\n",
    "    \"min_vol_weights\": w_min,\n",
    "    \"min_vol_return\": ret_min,\n",
    "    \"min_vol_vol\": vol_min,\n",
    "    \"min_vol_sharpe\": sharpe_min,\n",
    "    \"expected_returns_used\": mu.to_dict()\n",
    "}\n",
    "pd.to_pickle(summary, os.path.join(SAVE_DIR, \"portfolio_summary.pkl\"))\n",
    "\n",
    "# Also write a human-readable CSV for weights\n",
    "pd.DataFrame([w_sharpe, w_min], index=[\"max_sharpe\",\"min_vol\"]).T.to_csv(os.path.join(SAVE_DIR, \"recommended_weights.csv\"))\n",
    "\n",
    "print(\"\\nSaved portfolio summary and weights to\", SAVE_DIR)"
   ]
  },
  {
   "cell_type": "code",
   "execution_count": 16,
   "id": "36c58c4c-6a95-422e-b47a-c23f7a16314f",
   "metadata": {},
   "outputs": [
    {
     "name": "stdout",
     "output_type": "stream",
     "text": [
      "\n",
      "Recommended Portfolio Recommendation (based on forecasted TSLA expected return and historical BND/SPY):\n",
      "\n",
      "Max Sharpe (Tangency) Portfolio:\n",
      " - Weights: OrderedDict([('TSLA', 0.0), ('BND', 0.53561), ('SPY', 0.46439)])\n",
      " - Expected annual return: 7.04%\n",
      " - Expected annual volatility: 9.11%\n",
      " - Sharpe Ratio: 0.77\n",
      "\n",
      "Minimum Volatility Portfolio:\n",
      " - Weights: OrderedDict([('TSLA', 0.0), ('BND', 0.94512), ('SPY', 0.05488)])\n",
      " - Expected annual return: 2.38%\n",
      " - Expected annual volatility: 5.30%\n",
      " - Sharpe Ratio: 0.45\n",
      "\n",
      "Recommendation rationale:\n",
      " - If the client prioritizes risk-adjusted returns, choose Max Sharpe portfolio.\n",
      " - If the client prioritizes capital preservation, choose Min Volatility portfolio.\n",
      " - Consider transaction costs, tax implications and rebalancing frequency before implementation.\n",
      "\n"
     ]
    }
   ],
   "source": [
    "# 10. Recommendation \n",
    "recommendation = f\"\"\"\n",
    "Recommended Portfolio Recommendation (based on forecasted TSLA expected return and historical BND/SPY):\n",
    "\n",
    "Max Sharpe (Tangency) Portfolio:\n",
    " - Weights: {w_sharpe}\n",
    " - Expected annual return: {ret_sharpe:.2%}\n",
    " - Expected annual volatility: {vol_sharpe:.2%}\n",
    " - Sharpe Ratio: {sharpe_sharpe:.2f}\n",
    "\n",
    "Minimum Volatility Portfolio:\n",
    " - Weights: {w_min}\n",
    " - Expected annual return: {ret_min:.2%}\n",
    " - Expected annual volatility: {vol_min:.2%}\n",
    " - Sharpe Ratio: {sharpe_min:.2f}\n",
    "\n",
    "Recommendation rationale:\n",
    " - If the client prioritizes risk-adjusted returns, choose Max Sharpe portfolio.\n",
    " - If the client prioritizes capital preservation, choose Min Volatility portfolio.\n",
    " - Consider transaction costs, tax implications and rebalancing frequency before implementation.\n",
    "\"\"\"\n",
    "print(recommendation)\n",
    "\n",
    "# Save recommendation text\n",
    "with open(os.path.join(SAVE_DIR, \"recommendation.txt\"), \"w\") as f:\n",
    "    f.write(recommendation)"
   ]
  }
 ],
 "metadata": {
  "kernelspec": {
   "display_name": "Python 3.10 (venv310)",
   "language": "python",
   "name": "venv310"
  },
  "language_info": {
   "codemirror_mode": {
    "name": "ipython",
    "version": 3
   },
   "file_extension": ".py",
   "mimetype": "text/x-python",
   "name": "python",
   "nbconvert_exporter": "python",
   "pygments_lexer": "ipython3",
   "version": "3.10.11"
  }
 },
 "nbformat": 4,
 "nbformat_minor": 5
}
